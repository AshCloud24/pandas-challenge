{
 "cells": [
  {
   "cell_type": "markdown",
   "metadata": {},
   "source": [
    "# PyCity Schools Analysis\n",
    "\n",
    "* Your analysis here\n",
    "I wasn't able to complete the exercise in time, and had trouble with errors and only got as far as school summary.\n",
    "However, from as far as I got in the time that I had, I can see that the average mark for both reading and maths was very similar. The passing rate for both subjects was also similar. For this reason, I could make further assumptions that going to a certain type of school, government, independent, large, or small, doesn't necessarily decide the likeliness a student will succeed."
   ]
  },
  {
   "cell_type": "code",
   "execution_count": 213,
   "metadata": {},
   "outputs": [
    {
     "name": "stdout",
     "output_type": "stream",
     "text": [
      "       Student ID     student_name gender  year         school_name  \\\n",
      "0               0     Paul Bradley      M     9   Huang High School   \n",
      "1               1     Victor Smith      M    12   Huang High School   \n",
      "2               2  Kevin Rodriguez      M    12   Huang High School   \n",
      "3               3    Richard Scott      M    12   Huang High School   \n",
      "4               4       Bonnie Ray      F     9   Huang High School   \n",
      "...           ...              ...    ...   ...                 ...   \n",
      "39165       39165     Donna Howard      F    12  Thomas High School   \n",
      "39166       39166        Dawn Bell      F    10  Thomas High School   \n",
      "39167       39167   Rebecca Tanner      F     9  Thomas High School   \n",
      "39168       39168     Desiree Kidd      F    10  Thomas High School   \n",
      "39169       39169  Carolyn Jackson      F    11  Thomas High School   \n",
      "\n",
      "       reading_score  maths_score  School ID         type  size   budget  \n",
      "0                 96           94          0   Government  2917  1910635  \n",
      "1                 90           43          0   Government  2917  1910635  \n",
      "2                 41           76          0   Government  2917  1910635  \n",
      "3                 89           86          0   Government  2917  1910635  \n",
      "4                 87           69          0   Government  2917  1910635  \n",
      "...              ...          ...        ...          ...   ...      ...  \n",
      "39165             51           48         14  Independent  1635  1043130  \n",
      "39166             81           89         14  Independent  1635  1043130  \n",
      "39167             99           99         14  Independent  1635  1043130  \n",
      "39168             72           77         14  Independent  1635  1043130  \n",
      "39169             47           62         14  Independent  1635  1043130  \n",
      "\n",
      "[39170 rows x 11 columns]\n"
     ]
    }
   ],
   "source": [
    "# Dependencies and Setup\n",
    "from pathlib import Path\n",
    "import pandas as pd\n",
    "import numpy as np \n",
    "# File to Load (Remember to Change These)\n",
    "school_data_to_load = Path(\"schools_complete.csv\")\n",
    "student_data_to_load = Path(\"students_complete.csv\")\n",
    "##don't need resources as I am operating within a folder containing both csvs\n",
    "\n",
    "# Read School and Student Data File and store into Pandas DataFrames\n",
    "school_data = pd.read_csv(school_data_to_load)\n",
    "student_data = pd.read_csv(student_data_to_load)\n",
    "\n",
    "# Combine the data into a single dataset.\n",
    "school_data_complete = pd.merge(student_data, school_data, how=\"left\", on=[\"school_name\", \"school_name\"])\n",
    "### view data mergeF\n",
    "print(school_data_complete)"
   ]
  },
  {
   "cell_type": "markdown",
   "metadata": {},
   "source": [
    "## Local Government Area Summary"
   ]
  },
  {
   "cell_type": "code",
   "execution_count": 59,
   "metadata": {},
   "outputs": [
    {
     "name": "stdout",
     "output_type": "stream",
     "text": [
      "15\n",
      "39170\n",
      "82932329558\n"
     ]
    }
   ],
   "source": [
    "# Calculate the Totals (Schools and Students)\n",
    "\n",
    "school_name = school_data_complete['school_name'].unique()\n",
    "student_num = school_data_complete['Student ID'].unique()\n",
    "\n",
    "school_count = len(school_name)\n",
    "student_count = len(student_num)\n",
    "\n",
    "print(school_count)\n",
    "print(student_count)\n",
    "\n",
    "###school count = 15\n",
    "###student count = 39170\n",
    "\n",
    "\n",
    "\n",
    "# Calculate the Total Budget\n",
    "budget = school_data_complete['budget']\n",
    "total_budget = budget.sum()\n",
    "print(total_budget)\n",
    "\n",
    "## total budget- $82932329558"
   ]
  },
  {
   "cell_type": "code",
   "execution_count": 69,
   "metadata": {},
   "outputs": [
    {
     "name": "stdout",
     "output_type": "stream",
     "text": [
      "70.33819249425581\n",
      "69.98013786060761\n"
     ]
    }
   ],
   "source": [
    "# Calculate the Average Scores\n",
    "average_maths_score = school_data_complete['maths_score'].mean()\n",
    "average_reading_score = school_data_complete['reading_score'].mean()\n",
    "\n",
    "print(average_maths_score)\n",
    "print(average_reading_score)"
   ]
  },
  {
   "cell_type": "code",
   "execution_count": 93,
   "metadata": {},
   "outputs": [
    {
     "name": "stdout",
     "output_type": "stream",
     "text": [
      "33717\n",
      "86.07863160582077\n",
      "33070\n",
      "86.07863160582077\n",
      "84.40132754659177\n"
     ]
    }
   ],
   "source": [
    "# Calculate the Percentage Pass Rates\n",
    "passing_maths_count = school_data_complete[(school_data_complete[\"maths_score\"] >= 50)].count()[\"student_name\"]\n",
    "passing_maths_percentage = passing_maths_count / float(student_count) * 100\n",
    "\n",
    "passing_reading_count = school_data_complete[(school_data_complete[\"reading_score\"] >= 50)].count()[\"student_name\"]\n",
    "passing_reading_percentage = passing_maths_count / float (student_count) * 100\n",
    "\n",
    "print(passing_maths_count)\n",
    "print(passing_maths_percentage)\n",
    "print(passing_reading_count)\n",
    "print(passing_reading_percentage)\n",
    "\n",
    "passing_maths_reading_count = passing_maths_count & passing_reading_count\n",
    "\n",
    "\n",
    "overall_passing_rate = passing_maths_reading_count/ float(student_count)*100\n",
    "print(overall_passing_rate)\n",
    "\n"
   ]
  },
  {
   "cell_type": "code",
   "execution_count": 119,
   "metadata": {},
   "outputs": [
    {
     "data": {
      "text/html": [
       "<div>\n",
       "<style scoped>\n",
       "    .dataframe tbody tr th:only-of-type {\n",
       "        vertical-align: middle;\n",
       "    }\n",
       "\n",
       "    .dataframe tbody tr th {\n",
       "        vertical-align: top;\n",
       "    }\n",
       "\n",
       "    .dataframe thead th {\n",
       "        text-align: right;\n",
       "    }\n",
       "</style>\n",
       "<table border=\"1\" class=\"dataframe\">\n",
       "  <thead>\n",
       "    <tr style=\"text-align: right;\">\n",
       "      <th></th>\n",
       "      <th>Total Students</th>\n",
       "      <th>Total Schools</th>\n",
       "      <th>Total Budget</th>\n",
       "      <th>Average Maths score</th>\n",
       "      <th>Average Reading score</th>\n",
       "      <th>Percent Passing Maths</th>\n",
       "      <th>Percent Passing reading</th>\n",
       "      <th>Overall passing rate</th>\n",
       "    </tr>\n",
       "  </thead>\n",
       "  <tbody>\n",
       "    <tr>\n",
       "      <th>0</th>\n",
       "      <td>39,170</td>\n",
       "      <td>15</td>\n",
       "      <td>$82,932,329,558</td>\n",
       "      <td>70.34%</td>\n",
       "      <td>69.98%</td>\n",
       "      <td>86.08%</td>\n",
       "      <td>86.08%</td>\n",
       "      <td>84.40%</td>\n",
       "    </tr>\n",
       "  </tbody>\n",
       "</table>\n",
       "</div>"
      ],
      "text/plain": [
       "  Total Students Total Schools     Total Budget Average Maths score  \\\n",
       "0         39,170            15  $82,932,329,558              70.34%   \n",
       "\n",
       "  Average Reading score Percent Passing Maths Percent Passing reading  \\\n",
       "0                69.98%                86.08%                  86.08%   \n",
       "\n",
       "  Overall passing rate  \n",
       "0               84.40%  "
      ]
     },
     "execution_count": 119,
     "metadata": {},
     "output_type": "execute_result"
    }
   ],
   "source": [
    "# Convert to DataFrame\n",
    "area_summary = pd.DataFrame({\n",
    "    \"Total Students\": [student_count],\n",
    "    \"Total Schools\": [school_count],\n",
    "    \"Total Budget\": [total_budget],\n",
    "    \"Average Maths score\": [average_maths_score],\n",
    "    \"Average Reading score\": [average_reading_score],\n",
    "    \"Percent Passing Maths\": [passing_maths_percentage],\n",
    "    \"Percent Passing reading\": [passing_reading_percentage],\n",
    "    \"Overall passing rate\": [overall_passing_rate]\n",
    "})\n",
    "    \n",
    "#formatting\n",
    "area_summary[\"Total Students\"] = area_summary[\"Total Students\"].map(\"{:,}\".format)\n",
    "area_summary[\"Total Schools\"] = area_summary[\"Total Schools\"].map(\"{:,}\".format)\n",
    "area_summary[\"Total Budget\"] = area_summary[\"Total Budget\"].map(\"${:,}\".format)\n",
    "area_summary[\"Average Maths score\"] = area_summary[\"Average Maths score\"].map(\"{:,.2f}%\".format)\n",
    "area_summary[\"Average Reading score\"] = area_summary[\"Average Reading score\"].map(\"{:,.2f}%\".format)\n",
    "area_summary[\"Percent Passing Maths\"] = area_summary[\"Percent Passing Maths\"].map(\"{:,.2f}%\".format)\n",
    "area_summary[\"Percent Passing reading\"] = area_summary[\"Percent Passing reading\"].map(\"{:,.2f}%\".format)\n",
    "area_summary[\"Overall passing rate\"] = area_summary[\"Overall passing rate\"].map(\"{:,.2f}%\".format)\n",
    "\n",
    "\n",
    "# Display the DataFrame\n",
    "area_summary\n"
   ]
  },
  {
   "cell_type": "markdown",
   "metadata": {},
   "source": [
    "## School Summary"
   ]
  },
  {
   "cell_type": "code",
   "execution_count": 241,
   "metadata": {},
   "outputs": [
    {
     "name": "stdout",
     "output_type": "stream",
     "text": [
      "       Student ID     student_name gender  year         school_name  \\\n",
      "0               0     Paul Bradley      M     9   Huang High School   \n",
      "1               1     Victor Smith      M    12   Huang High School   \n",
      "2               2  Kevin Rodriguez      M    12   Huang High School   \n",
      "3               3    Richard Scott      M    12   Huang High School   \n",
      "4               4       Bonnie Ray      F     9   Huang High School   \n",
      "...           ...              ...    ...   ...                 ...   \n",
      "39165       39165     Donna Howard      F    12  Thomas High School   \n",
      "39166       39166        Dawn Bell      F    10  Thomas High School   \n",
      "39167       39167   Rebecca Tanner      F     9  Thomas High School   \n",
      "39168       39168     Desiree Kidd      F    10  Thomas High School   \n",
      "39169       39169  Carolyn Jackson      F    11  Thomas High School   \n",
      "\n",
      "       reading_score  maths_score  School ID         type  size   budget  \n",
      "0                 96           94          0   Government  2917  1910635  \n",
      "1                 90           43          0   Government  2917  1910635  \n",
      "2                 41           76          0   Government  2917  1910635  \n",
      "3                 89           86          0   Government  2917  1910635  \n",
      "4                 87           69          0   Government  2917  1910635  \n",
      "...              ...          ...        ...          ...   ...      ...  \n",
      "39165             51           48         14  Independent  1635  1043130  \n",
      "39166             81           89         14  Independent  1635  1043130  \n",
      "39167             99           99         14  Independent  1635  1043130  \n",
      "39168             72           77         14  Independent  1635  1043130  \n",
      "39169             47           62         14  Independent  1635  1043130  \n",
      "\n",
      "[39170 rows x 11 columns]\n",
      "school_name\n",
      "Huang High School      Government\n",
      "Huang High School      Government\n",
      "Huang High School      Government\n",
      "Huang High School      Government\n",
      "Huang High School      Government\n",
      "                         ...     \n",
      "Thomas High School    Independent\n",
      "Thomas High School    Independent\n",
      "Thomas High School    Independent\n",
      "Thomas High School    Independent\n",
      "Thomas High School    Independent\n",
      "Name: type, Length: 39170, dtype: object\n",
      "<pandas.core.groupby.generic.DataFrameGroupBy object at 0x000001BABA35A150>\n"
     ]
    }
   ],
   "source": [
    "# Use the code provided to select the type per school from school_data\n",
    "\n",
    "school_types = school_data_complete.set_index(['school_name'])[\"type\"]\n",
    "print(school_data_complete)\n",
    "per_school = school_data_complete.groupby(['school_name'])\n",
    "\n",
    "print(school_types)\n",
    "print(per_school)\n",
    "#Calculate the total student count per school from school_data\n",
    "\n",
    "per_school_counts = per_school.value_counts()\n",
    "#print(per_school_counts)\n",
    "\n",
    "\n",
    "# Calculate the total school budget and per capita spending per school from school_data\n",
    "#per_school_budget = school_data_complete.groupby(['school_name']).mean()['budget']\n",
    "#print(per_school_budget)\n",
    "\n",
    "#per_school_budget = school_data_complete.groupby([\"school_name\"]).mean()[\"budget\"]\n",
    "\n",
    "\n",
    "#per_school_capita =\n",
    "\n",
    "# Calculate the average test scores per school from school_data_complete\n",
    "per_school_maths = per_school['maths_score'].mean().reset_index()\n",
    "\n",
    "#print(per_school_maths)\n",
    "                                                \n",
    "                                        \n",
    "#per_school_reading =\n"
   ]
  },
  {
   "cell_type": "code",
   "execution_count": 237,
   "metadata": {},
   "outputs": [],
   "source": [
    "# Get the students who passed maths and passed reading by creating separate filtered DataFrames from school_data_complete.\n",
    "### school_passing_maths = \n",
    "####school_passing_reading =\n",
    "\n",
    "# Get the students who passed both reading and maths in a separate DataFrame from school_data_complete.\n",
    "# passing_maths_and_reading =\n"
   ]
  },
  {
   "cell_type": "code",
   "execution_count": 183,
   "metadata": {},
   "outputs": [
    {
     "ename": "AttributeError",
     "evalue": "'numpy.int64' object has no attribute 'groupby'",
     "output_type": "error",
     "traceback": [
      "\u001b[1;31m---------------------------------------------------------------------------\u001b[0m",
      "\u001b[1;31mAttributeError\u001b[0m                            Traceback (most recent call last)",
      "Cell \u001b[1;32mIn[183], line 2\u001b[0m\n\u001b[0;32m      1\u001b[0m \u001b[38;5;66;03m#  Calculate the Percentage Pass Rates\u001b[39;00m\n\u001b[1;32m----> 2\u001b[0m per_school_passing_maths \u001b[38;5;241m=\u001b[39m passing_maths_count\u001b[38;5;241m.\u001b[39mgroupby([\u001b[38;5;124m\"\u001b[39m\u001b[38;5;124mschool_name\u001b[39m\u001b[38;5;124m\"\u001b[39m])\u001b[38;5;241m.\u001b[39mcount()[\u001b[38;5;124m\"\u001b[39m\u001b[38;5;124mstudent_name\u001b[39m\u001b[38;5;124m\"\u001b[39m]\n",
      "\u001b[1;31mAttributeError\u001b[0m: 'numpy.int64' object has no attribute 'groupby'"
     ]
    }
   ],
   "source": [
    "##Calculate the Percentage Pass Rates\n",
    "#per_school_passing_maths = passing_maths_count.groupby([\"school_name\"]).count()[\"student_name\"]\n",
    "\n",
    "#per_school_passing_reading =\n",
    "#overall_passing_rate =\n"
   ]
  },
  {
   "cell_type": "code",
   "execution_count": null,
   "metadata": {},
   "outputs": [],
   "source": [
    "# Convert to DataFrame\n",
    "per_school_summary =\n",
    "\n",
    "# Formatting\n",
    "per_school_summary[\"Total School Budget\"] = per_school_summary[\"Total School Budget\"].map(\"${:,.2f}\".format)\n",
    "per_school_summary[\"Per Student Budget\"] = per_school_summary[\"Per Student Budget\"].map(\"${:,.2f}\".format)\n",
    "\n",
    "# Display the DataFrame\n",
    "per_school_summary\n"
   ]
  },
  {
   "cell_type": "raw",
   "metadata": {},
   "source": [
    "## Top Performing Schools (By %  Passing)"
   ]
  },
  {
   "cell_type": "code",
   "execution_count": null,
   "metadata": {
    "scrolled": true
   },
   "outputs": [],
   "source": [
    "# Sort and show top five schools\n",
    "top_schools =\n",
    "top_schools.head(5)\n"
   ]
  },
  {
   "cell_type": "markdown",
   "metadata": {},
   "source": [
    "## Bottom Performing Schools (By % Overall Passing)"
   ]
  },
  {
   "cell_type": "code",
   "execution_count": null,
   "metadata": {},
   "outputs": [],
   "source": [
    "# Sort and show bottom five schools\n",
    "bottom_schools =\n",
    "bottom_schools.head(5)\n"
   ]
  },
  {
   "cell_type": "markdown",
   "metadata": {
    "collapsed": true,
    "jupyter": {
     "outputs_hidden": true
    }
   },
   "source": [
    "## Maths Scores by Year"
   ]
  },
  {
   "cell_type": "code",
   "execution_count": null,
   "metadata": {},
   "outputs": [],
   "source": [
    "# Create data series of scores by year levels using conditionals\n",
    "year_nine = school_data_complete[(school_data_complete[\"year\"] == 9)]\n",
    "year_ten = school_data_complete[(school_data_complete[\"year\"] == 10)]\n",
    "year_eleven = school_data_complete[(school_data_complete[\"year\"] == 11)]\n",
    "year_twelve = school_data_complete[(school_data_complete[\"year\"] == 12)]\n",
    "\n",
    "# Group each by school name\n",
    "year_nine_scores =\n",
    "year_ten_scores =\n",
    "year_eleven_scores =\n",
    "year_twelve_scores =\n",
    "\n",
    "# Combine series into single DataFrame\n",
    "maths_scores_by_year =\n",
    "\n",
    "# Minor data wrangling\n",
    "maths_scores_by_year.index.name = None\n",
    "\n",
    "# Display the DataFrame\n",
    "maths_scores_by_year\n"
   ]
  },
  {
   "cell_type": "markdown",
   "metadata": {},
   "source": [
    "## Reading Score by Year"
   ]
  },
  {
   "cell_type": "code",
   "execution_count": null,
   "metadata": {},
   "outputs": [],
   "source": [
    "# Create data series of scores by year levels using conditionals\n",
    "year_nine = school_data_complete[(school_data_complete[\"year\"] == 9)]\n",
    "year_ten = school_data_complete[(school_data_complete[\"year\"] == 10)]\n",
    "year_eleven = school_data_complete[(school_data_complete[\"year\"] == 11)]\n",
    "year_twelve = school_data_complete[(school_data_complete[\"year\"] == 12)]\n",
    "\n",
    "# Group each by school name\n",
    "year_nine_scores =\n",
    "year_ten_scores =\n",
    "year_eleven_scores =\n",
    "year_twelve_scores =\n",
    "\n",
    "# Combine series into single DataFrame\n",
    "reading_scores_by_year =\n",
    "\n",
    "# Minor data wrangling\n",
    "reading_scores_by_year.index.name = None\n",
    "\n",
    "# Display the DataFrame\n",
    "reading_scores_by_year\n"
   ]
  },
  {
   "cell_type": "markdown",
   "metadata": {},
   "source": [
    "## Scores by School Spending"
   ]
  },
  {
   "cell_type": "code",
   "execution_count": null,
   "metadata": {},
   "outputs": [],
   "source": [
    "# Establish the bins\n",
    "spending_bins = [0, 585, 630, 645, 680]\n",
    "group_names = [\"<$585\", \"$585-630\", \"$630-645\", \"$645-680\"]\n"
   ]
  },
  {
   "cell_type": "code",
   "execution_count": null,
   "metadata": {},
   "outputs": [],
   "source": [
    "# Create a copy of the school summary since it has the \"Per Student Budget\"\n",
    "#  This step can be skipped but its best to make a copy.\n",
    "school_spending_df = per_school_summary\n"
   ]
  },
  {
   "cell_type": "code",
   "execution_count": null,
   "metadata": {},
   "outputs": [],
   "source": [
    "# Categorise spending based on the bins.\n",
    "school_spending_df[\"Spending Ranges (Per Student)\"] =\n",
    "school_spending_df\n"
   ]
  },
  {
   "cell_type": "code",
   "execution_count": null,
   "metadata": {},
   "outputs": [],
   "source": [
    "#  Calculate averages for the desired columns.\n",
    "spending_maths_scores = school_spending_df.groupby([\"Spending Ranges (Per Student)\"])[\"Average Maths Score\"].mean()\n",
    "spending_reading_scores = school_spending_df.groupby([\"Spending Ranges (Per Student)\"])[\"Average Reading Score\"].mean()\n",
    "spending_passing_maths = school_spending_df.groupby([\"Spending Ranges (Per Student)\"])[\"% Passing Maths\"].mean()\n",
    "spending_passing_reading = school_spending_df.groupby([\"Spending Ranges (Per Student)\"])[\"% Passing Reading\"].mean()\n",
    "overall_passing_spending = school_spending_df.groupby([\"Spending Ranges (Per Student)\"])[\"% Overall Passing\"].mean()\n"
   ]
  },
  {
   "cell_type": "code",
   "execution_count": null,
   "metadata": {},
   "outputs": [],
   "source": [
    "# Assemble into DataFrame\n",
    "spending_summary =\n",
    "\n",
    "# Display results\n",
    "spending_summary\n"
   ]
  },
  {
   "cell_type": "markdown",
   "metadata": {},
   "source": [
    "## Scores by School Size"
   ]
  },
  {
   "cell_type": "code",
   "execution_count": null,
   "metadata": {},
   "outputs": [],
   "source": [
    "# Establish the bins.\n",
    "size_bins = [0, 1000, 2000, 5000]\n",
    "group_names = [\"Small (<1000)\", \"Medium (1000-2000)\", \"Large (2000-5000)\"]\n"
   ]
  },
  {
   "cell_type": "code",
   "execution_count": null,
   "metadata": {},
   "outputs": [],
   "source": [
    "# Categorize the spending based on the bins\n",
    "per_school_summary[\"School Size\"] =\n",
    "per_school_summary\n"
   ]
  },
  {
   "cell_type": "code",
   "execution_count": null,
   "metadata": {},
   "outputs": [],
   "source": [
    "# Calculate averages for the desired columns.\n",
    "size_maths_scores = per_school_summary.groupby([\"School Size\"])[\"Average Maths Score\"].mean()\n",
    "size_reading_scores = per_school_summary.groupby([\"School Size\"])[\"Average Reading Score\"].mean()\n",
    "size_passing_maths = per_school_summary.groupby([\"School Size\"])[\"% Passing Maths\"].mean()\n",
    "size_passing_reading = per_school_summary.groupby([\"School Size\"])[\"% Passing Reading\"].mean()\n",
    "size_overall_passing = per_school_summary.groupby([\"School Size\"])[\"% Overall Passing\"].mean()\n"
   ]
  },
  {
   "cell_type": "code",
   "execution_count": null,
   "metadata": {
    "scrolled": true
   },
   "outputs": [],
   "source": [
    "# Assemble into DataFrame\n",
    "size_summary =\n",
    "\n",
    "# Display results\n",
    "size_summary\n"
   ]
  },
  {
   "cell_type": "markdown",
   "metadata": {},
   "source": [
    "## Scores by School Type"
   ]
  },
  {
   "cell_type": "code",
   "execution_count": null,
   "metadata": {},
   "outputs": [],
   "source": [
    "# Create new series using groupby for:\n",
    "# Type | Average Maths Score | Average Reading Score | % Passing Maths | % Passing Reading | % Overall Passing\n",
    "\n",
    "type_maths_scores = per_school_summary.groupby([\"School Type\"])[\"Average Maths Score\"].mean()\n",
    "type_reading_scores = per_school_summary.groupby([\"School Type\"])[\"Average Reading Score\"].mean()\n",
    "type_passing_maths = per_school_summary.groupby([\"School Type\"])[\"% Passing Maths\"].mean()\n",
    "type_passing_reading = per_school_summary.groupby([\"School Type\"])[\"% Passing Reading\"].mean()\n",
    "type_overall_passing = per_school_summary.groupby([\"School Type\"])[\"% Overall Passing\"].mean()\n"
   ]
  },
  {
   "cell_type": "code",
   "execution_count": null,
   "metadata": {},
   "outputs": [],
   "source": [
    "# Assemble into DataFrame\n",
    "type_summary =\n",
    "\n",
    "# Display results\n",
    "type_summary\n"
   ]
  },
  {
   "cell_type": "code",
   "execution_count": null,
   "metadata": {},
   "outputs": [],
   "source": []
  }
 ],
 "metadata": {
  "anaconda-cloud": {},
  "kernel_info": {
   "name": "python3"
  },
  "kernelspec": {
   "display_name": "Python 3 (ipykernel)",
   "language": "python",
   "name": "python3"
  },
  "language_info": {
   "codemirror_mode": {
    "name": "ipython",
    "version": 3
   },
   "file_extension": ".py",
   "mimetype": "text/x-python",
   "name": "python",
   "nbconvert_exporter": "python",
   "pygments_lexer": "ipython3",
   "version": "3.11.7"
  },
  "latex_envs": {
   "LaTeX_envs_menu_present": true,
   "autoclose": false,
   "autocomplete": true,
   "bibliofile": "biblio.bib",
   "cite_by": "apalike",
   "current_citInitial": 1,
   "eqLabelWithNumbers": true,
   "eqNumInitial": 1,
   "hotkeys": {
    "equation": "Ctrl-E",
    "itemize": "Ctrl-I"
   },
   "labels_anchors": false,
   "latex_user_defs": false,
   "report_style_numbering": false,
   "user_envs_cfg": false
  },
  "nteract": {
   "version": "0.8.4"
  }
 },
 "nbformat": 4,
 "nbformat_minor": 4
}
